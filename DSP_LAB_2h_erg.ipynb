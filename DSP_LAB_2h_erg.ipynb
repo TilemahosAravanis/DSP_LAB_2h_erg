{
 "cells": [
  {
   "cell_type": "markdown",
   "id": "06c7c35d",
   "metadata": {},
   "source": [
    "Part 1"
   ]
  },
  {
   "cell_type": "code",
   "execution_count": 2,
   "id": "38ff45ee",
   "metadata": {},
   "outputs": [],
   "source": [
    "import os\n",
    "import numpy as np\n",
    "import scipy as sp\n",
    "import random\n",
    "import matplotlib.pyplot as plt\n",
    "import IPython\n",
    "import sounddevice as sd\n",
    "import soundfile as sf"
   ]
  },
  {
   "cell_type": "markdown",
   "id": "c63bc787",
   "metadata": {},
   "source": [
    "Step 1.0"
   ]
  },
  {
   "cell_type": "code",
   "execution_count": 14,
   "id": "15257c2f",
   "metadata": {},
   "outputs": [],
   "source": [
    "music_stereo, f1 = sf.read('music.wav')\n",
    "music_mono = music_stereo[:,0]/2 + music_stereo[:,1]/2 # Convert to mono format\n",
    "\n",
    "music = music_mono / np.amax(abs(music_mono)) # Music normalized \n",
    "\n",
    "N = 512 # frame length\n",
    "hann = np.hanning(N)\n",
    "                             \n",
    "size = np.size(music)\n",
    "frames = []                             \n",
    "\n",
    "#print(size//512)\n",
    "#print(size/512)\n",
    "\n",
    "i = 0 \n",
    "while i <= (size - 512):\n",
    "    frames.append(music[i:i+512]*hann)   # List of frames of 512 specimens windowed with hanning\n",
    "    i = i + 512\n",
    "\n",
    "#print(len(frames))\n",
    "\n",
    "Zeros = np.zeros(512 - (size - i))\n",
    "frames.append(np.concatenate((music[i:], Zeros), axis = None)*hann)\n",
    "\n",
    "#print(np.size(frames[-1]))\n",
    "#print(frames[-1])"
   ]
  },
  {
   "cell_type": "code",
   "execution_count": 20,
   "id": "7b0f6b8e",
   "metadata": {},
   "outputs": [
    {
     "data": {
      "text/plain": [
       "Text(0, 0.5, 'Bark')"
      ]
     },
     "execution_count": 20,
     "metadata": {},
     "output_type": "execute_result"
    },
    {
     "data": {
      "image/png": "[encoded data removed]",
      "text/plain": [
       "<Figure size 432x288 with 1 Axes>"
      ]
     },
     "metadata": {
      "needs_background": "light"
     },
     "output_type": "display_data"
    }
   ],
   "source": [
    "%matplotlib inline\n",
    "f = np.arange(0,20000,1)\n",
    "b = 13* np.arctan(0.00076*f) + 3.5*np.arctan((f/7500)**2) # bark scale\n",
    "\n",
    "plt.plot(f,b)\n",
    "plt.xlabel('Center Frequency Hz')\n",
    "plt.ylabel('Bark')\n",
    "\n"
   ]
  },
  {
   "cell_type": "code",
   "execution_count": null,
   "id": "972d9695",
   "metadata": {},
   "outputs": [],
   "source": []
  }
 ],
 "metadata": {
  "kernelspec": {
   "display_name": "Python 3 (ipykernel)",
   "language": "python",
   "name": "python3"
  },
  "language_info": {
   "codemirror_mode": {
    "name": "ipython",
    "version": 3
   },
   "file_extension": ".py",
   "mimetype": "text/x-python",
   "name": "python",
   "nbconvert_exporter": "python",
   "pygments_lexer": "ipython3",
   "version": "3.9.12"
  }
 },
 "nbformat": 4,
 "nbformat_minor": 5
}
