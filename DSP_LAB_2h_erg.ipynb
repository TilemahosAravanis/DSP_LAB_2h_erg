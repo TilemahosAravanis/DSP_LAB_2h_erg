{
 "cells": [
  {
   "cell_type": "markdown",
   "id": "06c7c35d",
   "metadata": {},
   "source": [
    "Part 1"
   ]
  },
  {
   "cell_type": "code",
   "execution_count": 2,
   "id": "38ff45ee",
   "metadata": {},
   "outputs": [],
   "source": [
    "import os\n",
    "import numpy as np\n",
    "import scipy \n",
    "import random\n",
    "import matplotlib.pyplot as plt\n",
    "import IPython\n",
    "import sounddevice as sd\n",
    "import soundfile as sf"
   ]
  },
  {
   "cell_type": "markdown",
   "id": "c63bc787",
   "metadata": {},
   "source": [
    "Step 1.0"
   ]
  },
  {
   "cell_type": "code",
   "execution_count": 5,
   "id": "15257c2f",
   "metadata": {},
   "outputs": [],
   "source": [
    "music_stereo, f1 = sf.read('music.wav')\n",
    "music_mono = music_stereo[:,0]/2 + music_stereo[:,1]/2 # Convert to mono format\n",
    "\n",
    "music = music_mono / np.amax(abs(music_mono)) # Music normalized \n",
    "\n",
    "N = 512 # frame length\n",
    "hann = np.hanning(N)\n",
    "                             \n",
    "size = np.size(music)\n",
    "frames = []                             \n",
    "\n",
    "i = 0 \n",
    "while i <= (size - 512):\n",
    "    frames.append(music[i:i+512]*hann)   # List of frames of 512 specimens windowed with hanning\n",
    "    i = i + 512\n",
    "\n",
    "#print(len(frames))\n",
    "\n",
    "Zeros = np.zeros(512 - (size - i)) # Zero-pad Last Frame to have 512 specimes \n",
    "frames.append(np.concatenate((music[i:], Zeros), axis = None)*hann)\n",
    "\n",
    "#print(np.size(frames[-1]))\n",
    "#print(frames[-1])"
   ]
  },
  {
   "cell_type": "markdown",
   "id": "4a546af5",
   "metadata": {},
   "source": [
    "Step 1.1"
   ]
  },
  {
   "cell_type": "code",
   "execution_count": null,
   "id": "7b0f6b8e",
   "metadata": {
    "scrolled": true
   },
   "outputs": [],
   "source": [
    "%matplotlib inline\n",
    "f = np.arange(0,20000,1)\n",
    "b = 13* np.arctan(0.00076*f) + 3.5*np.arctan((f/7500)**2) # bark scale\n",
    "\n",
    "plt.figure(1)\n",
    "plt.plot(f,b)\n",
    "plt.xlabel('Center Frequency in Hz')\n",
    "plt.ylabel('Bark')\n",
    "\n",
    "Power_Spectrum = []\n",
    "PN = 90.302\n",
    "\n",
    "for frame in frames:\n",
    "    p = 20*np.log10(abs(np.fft.fft(frame))) + PN\n",
    "    p_cut = p[:256]\n",
    "    Power_Spectrum.append(p_cut)\n",
    "\n",
    "plt.figure(2)\n",
    "k = np.arange(0,256,1)\n",
    "plt.plot(k,Power_Spectrum[0])\n",
    "plt.xlabel('Specimens')\n",
    "plt.title('Power Spectrum of 1st frame')\n",
    "\n",
    "plt.figure(3)\n",
    "plt.plot(k,Power_Spectrum[1])\n",
    "plt.xlabel('Specimens')\n",
    "plt.title('Power Spectrum of 2nd frame')\n",
    "\n",
    "plt.figure(4)\n",
    "plt.plot(k,Power_Spectrum[2])\n",
    "plt.xlabel('Specimens')\n",
    "plt.title('Power Spectrum of 3rd frame')    "
   ]
  },
  {
   "cell_type": "markdown",
   "id": "e9ce89d1",
   "metadata": {},
   "source": [
    "Step 1.2"
   ]
  },
  {
   "cell_type": "code",
   "execution_count": null,
   "id": "604737bb",
   "metadata": {},
   "outputs": [],
   "source": [
    "def St(k, power_spectrum):\n",
    "    bool = True \n",
    "    i = 2\n",
    "    if k <= 2:\n",
    "        bool = False\n",
    "    elif 2 < k < 63 :\n",
    "        predicate_1 = power_spectrum[k] > power_spectrum[k - 1] and power_spectrum[k] > power_spectrum[k + 1]\n",
    "        bool = predicate_1 and bool\n",
    "        while i <= 2:\n",
    "            predicate = power_spectrum[k] > (power_spectrum[k - i] + 7) and power_spectrum[k] > (power_spectrum[k + i] + 7)\n",
    "            bool = predicate and bool\n",
    "            i = i + 1\n",
    "    elif 63 <= k < 127 :\n",
    "        predicate_1 = power_spectrum[k] > power_spectrum[k - 1] and power_spectrum[k] > power_spectrum[k + 1]\n",
    "        bool = predicate_1 and bool\n",
    "        while i <= 3:\n",
    "            predicate = power_spectrum[k] > (power_spectrum[k - i] + 7) and power_spectrum[k] > (power_spectrum[k + i] + 7)\n",
    "            bool = predicate and bool\n",
    "            i = i + 1\n",
    "    elif 127 <= k <= 250 :\n",
    "        predicate_1 = power_spectrum[k] > power_spectrum[k - 1] and power_spectrum[k] > power_spectrum[k + 1]\n",
    "        bool = predicate_1 and bool\n",
    "        while i <= 6:\n",
    "            predicate = power_spectrum[k] > (power_spectrum[k - i] + 7) and power_spectrum[k] > (power_spectrum[k + i] + 7)\n",
    "            bool = predicate and bool\n",
    "            i = i + 1\n",
    "    return bool\n",
    "\n",
    "Masks = []\n",
    "for power_spectrum in Power_Spectrum:\n",
    "    Masks.append(np.zeros(256))\n",
    "    for k in range(250):\n",
    "        if(St(k, power_spectrum)):\n",
    "            Masks[-1][k] = 10*np.log10(10**(0.1*power_spectrum[k-1]) + 10**(0.1*power_spectrum[k]) + 10**(0.1*power_spectrum[k+1]))\n",
    "\n",
    "\n",
    "Noise_masks = np.load('P_NM.npy')\n",
    "#print(Noise_masks)"
   ]
  },
  {
   "cell_type": "markdown",
   "id": "2212891b",
   "metadata": {},
   "source": [
    "Step 1.3"
   ]
  },
  {
   "cell_type": "code",
   "execution_count": 15,
   "id": "c13099d5",
   "metadata": {
    "scrolled": true
   },
   "outputs": [],
   "source": [
    "tone_masks_cut = np.load('P_TMc.npy')\n",
    "noise_masks_cut = np.load('P_NMc.npy')"
   ]
  },
  {
   "cell_type": "markdown",
   "id": "5f1968e8",
   "metadata": {},
   "source": [
    "Step 1.4"
   ]
  },
  {
   "cell_type": "code",
   "execution_count": 16,
   "id": "e7668c2f",
   "metadata": {
    "scrolled": true
   },
   "outputs": [],
   "source": [
    "fs = 44100\n",
    "\n",
    "def SF(i, j, half_frame): #we assume (b_i - b_j)<=12\n",
    "    f_i = i*fs/N;\n",
    "    f_j = j*fs/N;\n",
    "    b_i = 13*np.arctan(0.00076*f_i) + 3.5*np.arctan((f_i/7500)**2) # bark scale\n",
    "    b_j = 13*np.arctan(0.00076*f_j) + 3.5*np.arctan((f_j/7500)**2) # bark scale\n",
    "    delta = b_i - b_j\n",
    "    if(delta>=-3 and delta<-1): return (17*delta - 0.4*half_frame[j] + 11)\n",
    "    elif(delta<0): return ((0.4*half_frame[j] + 6)*delta)\n",
    "    elif(delta<1): return -17*delta\n",
    "    else: return ((0.15*half_frame[j] - 17)*delta - 0.15*half_frame[j])\n",
    "\n",
    "def T_tm(i,j, half_frame):\n",
    "    f_i = i*fs/N;\n",
    "    f_j = j*fs/N;\n",
    "    b_i = 13* np.arctan(0.00076*f_i) + 3.5*np.arctan((f_i/7500)**2) # bark scale\n",
    "    b_j = 13* np.arctan(0.00076*f_j) + 3.5*np.arctan((f_j/7500)**2) # bark scale\n",
    "    delta = b_i - b_j\n",
    "    if(delta>12): return 0\n",
    "    else: return (half_frame[j] - 0.175*b_j + SF(i,j,half_frame) - 6.025)\n",
    "    \n",
    "def T_nm(i,j, half_frame):\n",
    "    f_i = i*fs/N;\n",
    "    f_j = j*fs/N;\n",
    "    b_i = 13* np.arctan(0.00076*f_i) + 3.5*np.arctan((f_i/7500)**2) # bark scale\n",
    "    b_j = 13* np.arctan(0.00076*f_j) + 3.5*np.arctan((f_j/7500)**2) # bark scale\n",
    "    delta = b_i - b_j\n",
    "    if(delta>12): return 0\n",
    "    else: return (half_frame[j] - 0.175*b_j + SF(i,j,half_frame) - 2.025)\n",
    "    \n",
    "\n",
    "Thresholds_full = []\n",
    "for counter in range(1179):\n",
    "    half_frame_tone = tone_masks_cut[:,counter]\n",
    "    half_frame_noise = noise_masks_cut[:,counter]\n",
    "    j_noise = []\n",
    "    j_tone = []\n",
    "    Thresholds_per_half_frame = np.zeros((256,256), dtype=object)\n",
    "    for j in range(256):\n",
    "        if(half_frame_tone[j]>0):\n",
    "            j_tone.append(j)\n",
    "        if(half_frame_noise[j]>0):\n",
    "            j_noise.append(j)\n",
    "    for j in j_noise:\n",
    "        for i in range(256):\n",
    "            T_noise = T_nm(i,j,half_frame_noise)\n",
    "            Thresholds_per_half_frame[i][j] = (T_noise, 0)\n",
    "    for j in j_tone:\n",
    "        for i in range(256):\n",
    "            T_tone = T_tm(i,j,half_frame_tone)\n",
    "            if((isinstance(Thresholds_per_half_frame[i][j], int)==0)): Thresholds_per_half_frame[i][j] = (Thresholds_per_half_frame[i][j][0], T_tone)\n",
    "            else: Thresholds_per_half_frame[i][j] = (0, T_tone)\n",
    "    Thresholds_full.append(Thresholds_per_half_frame)\n",
    "            "
   ]
  },
  {
   "cell_type": "markdown",
   "id": "84f906cd",
   "metadata": {},
   "source": [
    "Step 1.5"
   ]
  },
  {
   "cell_type": "code",
   "execution_count": 17,
   "id": "9ff66382",
   "metadata": {},
   "outputs": [],
   "source": [
    "fs = 44100\n",
    "N = 512\n",
    "\n",
    "def T_q(i):   \n",
    "    f = i*fs/N;\n",
    "    return 3.64*((f/1000)**(-0.8)) - 6.5*np.exp(-0.6*((f/1000 - 3.3)**2)) + (10**(-3))*((f/1000)**4)"
   ]
  },
  {
   "cell_type": "code",
   "execution_count": 18,
   "id": "d0de36e5",
   "metadata": {},
   "outputs": [],
   "source": [
    "def T_g(i, pinakas):\n",
    "    sum_tone = 0\n",
    "    sum_noise = 0\n",
    "    for j in range(256):\n",
    "        if((isinstance(pinakas[i][j], int)==0)):\n",
    "            T_noise = pinakas[i][j][0]\n",
    "            T_tone = pinakas[i][j][1]\n",
    "            if(T_noise>0): sum_noise += 10**(0.1*T_noise)\n",
    "            if(T_tone>0): sum_tone += 10**(0.1*T_tone)\n",
    "    return 10*np.log10(10**(0.1*T_q(i)) + sum_noise + sum_tone)\n",
    "            "
   ]
  },
  {
   "cell_type": "code",
   "execution_count": 19,
   "id": "2fdb2501",
   "metadata": {},
   "outputs": [],
   "source": [
    "Total_Thresholds = []\n",
    "\n",
    "for counter in range(1179):\n",
    "    Total_Thresholds_list = []\n",
    "    pinakas = Thresholds_full[counter]\n",
    "    i = 1                \n",
    "    while(i<256):\n",
    "        total = T_g(i, pinakas)\n",
    "        Total_Thresholds_list.append(total)\n",
    "        i += 1\n",
    "    Total_Thresholds.append(Total_Thresholds_list)\n"
   ]
  },
  {
   "cell_type": "code",
   "execution_count": 25,
   "id": "e152ce2f",
   "metadata": {},
   "outputs": [
    {
     "name": "stdout",
     "output_type": "stream",
     "text": [
      "233.02824007532854\n"
     ]
    }
   ],
   "source": [
    "print(Total_Thresholds[0][254])"
   ]
  },
  {
   "cell_type": "markdown",
   "id": "f79a4735",
   "metadata": {},
   "source": [
    "Part 2"
   ]
  },
  {
   "cell_type": "markdown",
   "id": "fab3d0c7",
   "metadata": {},
   "source": [
    "Step 2.0"
   ]
  },
  {
   "cell_type": "code",
   "execution_count": 3,
   "id": "b1dc9d57",
   "metadata": {},
   "outputs": [],
   "source": [
    "H_Filters = []\n",
    "G_Filters = []\n",
    "\n",
    "M = 32\n",
    "L = 2*M\n",
    "n = np.arange(0,L,1)\n",
    "\n",
    "for k in range(M):\n",
    "    H_Filters.append(np.sin((n+1/2)*np.pi/(2*M))*np.sqrt(2/M)*np.cos((2*n+M+1)*(2*k+1)*np.pi/(4*M)))\n",
    "    n1 = 2*M - 1 - n\n",
    "    G_Filters.append(np.sin((n1+1/2)*np.pi/(2*M))*np.sqrt(2/M)*np.cos((2*n1+M+1)*(2*k+1)*np.pi/(4*M)))\n",
    "    \n",
    "#print(H_Filters[0])"
   ]
  },
  {
   "cell_type": "code",
   "execution_count": 6,
   "id": "b7e866e5",
   "metadata": {},
   "outputs": [],
   "source": [
    "time_compon = []\n",
    "\n",
    "music = music_mono / np.amax(abs(music_mono)) # Music normalized \n",
    "\n",
    "N = 512 # frame length\n",
    "                             \n",
    "size = np.size(music)\n",
    "frames = []                             \n",
    "\n",
    "i = 0 \n",
    "while i <= (size - 512):\n",
    "    frames.append(music[i:i+512])   # List of frames of 512 specimens\n",
    "    i = i + 512\n",
    "\n",
    "Zeros = np.zeros(512 - (size - i)) # Zero-pad Last Frame to have 512 specimes \n",
    "frames.append(np.concatenate((music[i:], Zeros), axis = None))\n",
    "\n",
    "\n",
    "for k in range(M):\n",
    "    frames_processed = []\n",
    "    for frame in frames:\n",
    "        u = np.convolve(frame, H_Filters[k],'full')\n",
    "        # y = scipy.signal.decimate(u,M)\n",
    "        y = u[:-M:M]\n",
    "        frames_processed.append(y)\n",
    "    time_compon.append(frames_processed)\n"
   ]
  },
  {
   "cell_type": "markdown",
   "id": "336ac93b",
   "metadata": {},
   "source": [
    "Step 2.2"
   ]
  },
  {
   "cell_type": "code",
   "execution_count": 44,
   "id": "4f217e0f",
   "metadata": {},
   "outputs": [],
   "source": [
    "fs = 44100\n",
    "N = 512\n",
    "\n",
    "B = 16\n",
    "R = 2**B\n",
    "Bits = []\n",
    "\n",
    "k = 1\n",
    "while k <= 32:\n",
    "    indexes = []\n",
    "    fk = (2*k - 1)*fs*np.pi/(2*M)\n",
    "    r = fs*np.pi/(2*M)\n",
    "    i = 1\n",
    "    while i < 256:\n",
    "        f = i*(2*np.pi/N)*fs\n",
    "        if  (fk - r <= f) and (f <= fk + r): \n",
    "            indexes.append(i - 1)             # indexes corresponding to filter passband\n",
    "        i = i + 1\n",
    "    b = []\n",
    "    for frame in range(1179):\n",
    "        Tg = min([Total_Thresholds[frame][j] for j in indexes]) # min Global masking threshold\n",
    "        b.append(int(np.ceil((np.log2(R/Tg) - 1))))\n",
    "    Bits.append(b)\n",
    "    k = k + 1  \n"
   ]
  },
  {
   "cell_type": "code",
   "execution_count": null,
   "id": "b3d6ef02",
   "metadata": {},
   "outputs": [],
   "source": []
  }
 ],
 "metadata": {
  "kernelspec": {
   "display_name": "Python 3 (ipykernel)",
   "language": "python",
   "name": "python3"
  },
  "language_info": {
   "codemirror_mode": {
    "name": "ipython",
    "version": 3
   },
   "file_extension": ".py",
   "mimetype": "text/x-python",
   "name": "python",
   "nbconvert_exporter": "python",
   "pygments_lexer": "ipython3",
   "version": "3.9.12"
  }
 },
 "nbformat": 4,
 "nbformat_minor": 5
}
