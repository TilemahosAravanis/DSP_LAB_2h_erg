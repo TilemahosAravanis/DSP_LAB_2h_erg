{
 "cells": [
  {
   "cell_type": "markdown",
   "id": "06c7c35d",
   "metadata": {},
   "source": [
    "Part 1"
   ]
  },
  {
   "cell_type": "code",
   "execution_count": 34,
   "id": "38ff45ee",
   "metadata": {},
   "outputs": [],
   "source": [
    "import os\n",
    "import numpy as np\n",
    "import scipy as sp\n",
    "import random\n",
    "import matplotlib.pyplot as plt\n",
    "import IPython\n",
    "import sounddevice as sd\n",
    "import soundfile as sf"
   ]
  },
  {
   "cell_type": "markdown",
   "id": "c63bc787",
   "metadata": {},
   "source": [
    "Step 1.0"
   ]
  },
  {
   "cell_type": "code",
   "execution_count": 54,
   "id": "15257c2f",
   "metadata": {},
   "outputs": [
    {
     "ename": "SyntaxError",
     "evalue": "invalid syntax (Temp/ipykernel_23548/3867345641.py, line 11)",
     "output_type": "error",
     "traceback": [
      "\u001b[1;36m  File \u001b[1;32m\"C:\\Users\\imith\\AppData\\Local\\Temp/ipykernel_23548/3867345641.py\"\u001b[1;36m, line \u001b[1;32m11\u001b[0m\n\u001b[1;33m    save = np.array([0:size], dtype=object);\u001b[0m\n\u001b[1;37m                      ^\u001b[0m\n\u001b[1;31mSyntaxError\u001b[0m\u001b[1;31m:\u001b[0m invalid syntax\n"
     ]
    }
   ],
   "source": [
    "music_stereo, f1 = sf.read('music.wav')\n",
    "music_mono = music_stereo[:,0]/2 + music_stereo[:,1]/2\n",
    "\n",
    "music = music_mono / np.amax(music_mono)\n",
    "\n",
    "N = 512;\n",
    "\n",
    "hann = np.hanning(N);\n",
    "size = np.size(music);\n",
    "segments = size/512;\n",
    "save = np.array([0:size], dtype=object);\n",
    "\n",
    "print(segments);\n",
    "for i in range(1179):\n",
    "    x = slice(i*N, (i+1)*N)\n",
    "    save[i] = 2;\n"
   ]
  }
 ],
 "metadata": {
  "kernelspec": {
   "display_name": "Python 3 (ipykernel)",
   "language": "python",
   "name": "python3"
  },
  "language_info": {
   "codemirror_mode": {
    "name": "ipython",
    "version": 3
   },
   "file_extension": ".py",
   "mimetype": "text/x-python",
   "name": "python",
   "nbconvert_exporter": "python",
   "pygments_lexer": "ipython3",
   "version": "3.9.12"
  }
 },
 "nbformat": 4,
 "nbformat_minor": 5
}
