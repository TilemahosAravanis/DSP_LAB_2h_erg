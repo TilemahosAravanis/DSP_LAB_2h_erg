{
 "cells": [
  {
   "cell_type": "markdown",
   "id": "06c7c35d",
   "metadata": {},
   "source": [
    "Part 1"
   ]
  },
  {
   "cell_type": "code",
   "execution_count": 24,
   "id": "38ff45ee",
   "metadata": {},
   "outputs": [],
   "source": [
    "import os\n",
    "import numpy as np\n",
    "import scipy as sp\n",
    "import random\n",
    "import matplotlib.pyplot as plt\n",
    "import IPython\n",
    "import sounddevice as sd\n",
    "import soundfile as sf"
   ]
  },
  {
   "cell_type": "markdown",
   "id": "c63bc787",
   "metadata": {},
   "source": [
    "Step 1.0"
   ]
  },
  {
   "cell_type": "code",
   "execution_count": 41,
   "id": "15257c2f",
   "metadata": {},
   "outputs": [],
   "source": [
    "music_stereo, f1 = sf.read('music.wav')\n",
    "music_mono = music_stereo[:,0]/2 + music_stereo[:,1]/2 # Convert to mono format\n",
    "\n",
    "music = music_mono / np.amax(abs(music_mono)) # Music normalized \n",
    "\n",
    "N = 512 # frame length\n",
    "hann = np.hanning(N)\n",
    "                             \n",
    "size = np.size(music)\n",
    "frames = []                             \n",
    "\n",
    "i = 0 \n",
    "for i in range(size - 512):\n",
    "    frames.append(music[i:i+512]*hann)   # List of frames of 512 specimens windowed with hanning\n",
    "    i = i + 512\n",
    "\n",
    "#print(np.size(music[i:]))"
   ]
  },
  {
   "cell_type": "code",
   "execution_count": null,
   "id": "7b0f6b8e",
   "metadata": {},
   "outputs": [],
   "source": []
  }
 ],
 "metadata": {
  "kernelspec": {
   "display_name": "Python 3 (ipykernel)",
   "language": "python",
   "name": "python3"
  },
  "language_info": {
   "codemirror_mode": {
    "name": "ipython",
    "version": 3
   },
   "file_extension": ".py",
   "mimetype": "text/x-python",
   "name": "python",
   "nbconvert_exporter": "python",
   "pygments_lexer": "ipython3",
   "version": "3.9.12"
  }
 },
 "nbformat": 4,
 "nbformat_minor": 5
}
